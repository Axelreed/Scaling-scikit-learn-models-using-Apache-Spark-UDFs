{
 "cells": [
  {
   "cell_type": "markdown",
   "metadata": {},
   "source": [
    "#### Experiments using simulated dataset \n",
    "#### Spark UDFS"
   ]
  },
  {
   "cell_type": "code",
   "execution_count": 1,
   "metadata": {},
   "outputs": [],
   "source": [
    "# Initiate spark\n",
    "import findspark\n",
    "findspark.init()\n",
    "import pyspark # This needs to have been installed first\n",
    "from pyspark.sql import SparkSession\n",
    "from pyspark.sql import DataFrame\n",
    "from pyspark import SparkContext, SparkConf\n",
    "from pyspark.sql import *"
   ]
  },
  {
   "cell_type": "code",
   "execution_count": 2,
   "metadata": {},
   "outputs": [
    {
     "name": "stdout",
     "output_type": "stream",
     "text": [
      "3.6.2 |Anaconda custom (64-bit)| (default, Sep 19 2017, 08:03:39) [MSC v.1900 64 bit (AMD64)]\n"
     ]
    },
    {
     "data": {
      "text/plain": [
       "'C:\\\\Users\\\\areda\\\\Documents'"
      ]
     },
     "execution_count": 2,
     "metadata": {},
     "output_type": "execute_result"
    }
   ],
   "source": [
    "# Initial set up\n",
    "\n",
    "# check version\n",
    "import sys\n",
    "print(sys.version)\n",
    "\n",
    "# Show all output from cells\n",
    "from IPython.core.interactiveshell import InteractiveShell\n",
    "InteractiveShell.ast_node_interactivity = \"all\"\n",
    "\n",
    "# Show graphics within Jupyter\n",
    "%matplotlib inline\n",
    "\n",
    "import matplotlib as plt\n",
    "\n",
    "# Show edges of the histograms\n",
    "plt.rcParams[\"patch.force_edgecolor\"] = True\n",
    "\n",
    "# Timing code\n",
    "import time\n",
    "\n",
    "# Set seaborn themes\n",
    "import seaborn as sns\n",
    "sns.set()\n",
    "import os\n",
    "os.getcwd()"
   ]
  },
  {
   "cell_type": "code",
   "execution_count": 3,
   "metadata": {},
   "outputs": [],
   "source": [
    "import pandas as pd\n",
    "import numpy as np"
   ]
  },
  {
   "cell_type": "code",
   "execution_count": 4,
   "metadata": {},
   "outputs": [],
   "source": [
    "# Create context\n",
    "spark = SparkSession.builder.master(\"local\").appName(\"AlexReda\").config(\"spark.some.config.option\", \"some-value\").getOrCreate()"
   ]
  },
  {
   "cell_type": "code",
   "execution_count": 5,
   "metadata": {},
   "outputs": [
    {
     "data": {
      "text/plain": [
       "'2.3.0'"
      ]
     },
     "execution_count": 5,
     "metadata": {},
     "output_type": "execute_result"
    }
   ],
   "source": [
    "spark.version"
   ]
  },
  {
   "cell_type": "code",
   "execution_count": 6,
   "metadata": {},
   "outputs": [],
   "source": [
    "import numpy as np\n",
    "from sklearn.datasets import make_classification\n",
    "from sklearn.model_selection import train_test_split\n",
    "from sklearn.ensemble import RandomForestClassifier\n",
    "from sklearn.model_selection import GridSearchCV\n",
    "import pandas as pd\n",
    "import pyspark\n",
    "from pyspark.sql.functions import *\n",
    "from pyspark.sql.types import DoubleType, StringType, ArrayType"
   ]
  },
  {
   "cell_type": "markdown",
   "metadata": {},
   "source": [
    "#### First investigation"
   ]
  },
  {
   "cell_type": "code",
   "execution_count": 7,
   "metadata": {},
   "outputs": [],
   "source": [
    "# Make fake data and train a model\n",
    "n_samples_test = 10000\n",
    "n_samples_train = 1000\n",
    "n_samples_all = n_samples_train + n_samples_test\n",
    "n_features = 50"
   ]
  },
  {
   "cell_type": "code",
   "execution_count": 8,
   "metadata": {},
   "outputs": [],
   "source": [
    "X, y = make_classification(n_samples = n_samples_all, n_features = n_features, random_state = 123)"
   ]
  },
  {
   "cell_type": "code",
   "execution_count": 9,
   "metadata": {},
   "outputs": [],
   "source": [
    "X_train, X_test, y_train, y_test = \\\n",
    "train_test_split(X, y, test_size = n_samples_test, random_state = 45)"
   ]
  },
  {
   "cell_type": "code",
   "execution_count": 10,
   "metadata": {},
   "outputs": [],
   "source": [
    "column_names = [f'feature{i}' for i in range(n_features)]"
   ]
  },
  {
   "cell_type": "code",
   "execution_count": 11,
   "metadata": {},
   "outputs": [],
   "source": [
    "X_test2 = pd.DataFrame(X_test, columns = column_names).reset_index().rename(columns = {'index': 'id'})"
   ]
  },
  {
   "cell_type": "code",
   "execution_count": 12,
   "metadata": {},
   "outputs": [
    {
     "data": {
      "text/html": [
       "<div>\n",
       "<style scoped>\n",
       "    .dataframe tbody tr th:only-of-type {\n",
       "        vertical-align: middle;\n",
       "    }\n",
       "\n",
       "    .dataframe tbody tr th {\n",
       "        vertical-align: top;\n",
       "    }\n",
       "\n",
       "    .dataframe thead th {\n",
       "        text-align: right;\n",
       "    }\n",
       "</style>\n",
       "<table border=\"1\" class=\"dataframe\">\n",
       "  <thead>\n",
       "    <tr style=\"text-align: right;\">\n",
       "      <th></th>\n",
       "      <th>id</th>\n",
       "      <th>feature0</th>\n",
       "      <th>feature1</th>\n",
       "      <th>feature2</th>\n",
       "      <th>feature3</th>\n",
       "      <th>feature4</th>\n",
       "      <th>feature5</th>\n",
       "      <th>feature6</th>\n",
       "      <th>feature7</th>\n",
       "      <th>feature8</th>\n",
       "      <th>...</th>\n",
       "      <th>feature40</th>\n",
       "      <th>feature41</th>\n",
       "      <th>feature42</th>\n",
       "      <th>feature43</th>\n",
       "      <th>feature44</th>\n",
       "      <th>feature45</th>\n",
       "      <th>feature46</th>\n",
       "      <th>feature47</th>\n",
       "      <th>feature48</th>\n",
       "      <th>feature49</th>\n",
       "    </tr>\n",
       "  </thead>\n",
       "  <tbody>\n",
       "    <tr>\n",
       "      <th>0</th>\n",
       "      <td>0</td>\n",
       "      <td>-0.410779</td>\n",
       "      <td>1.408338</td>\n",
       "      <td>-0.069688</td>\n",
       "      <td>0.040203</td>\n",
       "      <td>-0.307234</td>\n",
       "      <td>-0.844737</td>\n",
       "      <td>-0.138596</td>\n",
       "      <td>1.549422</td>\n",
       "      <td>-1.880608</td>\n",
       "      <td>...</td>\n",
       "      <td>-0.693239</td>\n",
       "      <td>0.130851</td>\n",
       "      <td>-1.399520</td>\n",
       "      <td>0.488927</td>\n",
       "      <td>-0.513195</td>\n",
       "      <td>-1.180520</td>\n",
       "      <td>-0.779563</td>\n",
       "      <td>1.022411</td>\n",
       "      <td>0.865472</td>\n",
       "      <td>0.965532</td>\n",
       "    </tr>\n",
       "    <tr>\n",
       "      <th>1</th>\n",
       "      <td>1</td>\n",
       "      <td>-1.432422</td>\n",
       "      <td>2.648975</td>\n",
       "      <td>0.664868</td>\n",
       "      <td>-0.948636</td>\n",
       "      <td>-1.203100</td>\n",
       "      <td>-3.198291</td>\n",
       "      <td>-0.537351</td>\n",
       "      <td>-0.315041</td>\n",
       "      <td>1.633572</td>\n",
       "      <td>...</td>\n",
       "      <td>-1.377846</td>\n",
       "      <td>0.232574</td>\n",
       "      <td>0.106566</td>\n",
       "      <td>-0.049747</td>\n",
       "      <td>0.440557</td>\n",
       "      <td>1.644224</td>\n",
       "      <td>-1.688193</td>\n",
       "      <td>0.113779</td>\n",
       "      <td>1.438163</td>\n",
       "      <td>1.676255</td>\n",
       "    </tr>\n",
       "    <tr>\n",
       "      <th>2</th>\n",
       "      <td>2</td>\n",
       "      <td>0.308283</td>\n",
       "      <td>-0.777478</td>\n",
       "      <td>0.572280</td>\n",
       "      <td>-0.494407</td>\n",
       "      <td>0.234693</td>\n",
       "      <td>0.664338</td>\n",
       "      <td>-0.198858</td>\n",
       "      <td>1.007483</td>\n",
       "      <td>1.761043</td>\n",
       "      <td>...</td>\n",
       "      <td>0.171687</td>\n",
       "      <td>1.292698</td>\n",
       "      <td>-0.264595</td>\n",
       "      <td>0.313309</td>\n",
       "      <td>0.461846</td>\n",
       "      <td>-0.793724</td>\n",
       "      <td>2.184697</td>\n",
       "      <td>0.136228</td>\n",
       "      <td>-1.306590</td>\n",
       "      <td>-0.718391</td>\n",
       "    </tr>\n",
       "    <tr>\n",
       "      <th>3</th>\n",
       "      <td>3</td>\n",
       "      <td>-1.135503</td>\n",
       "      <td>0.636659</td>\n",
       "      <td>1.083565</td>\n",
       "      <td>-1.079299</td>\n",
       "      <td>0.749069</td>\n",
       "      <td>1.992796</td>\n",
       "      <td>-0.829618</td>\n",
       "      <td>0.052515</td>\n",
       "      <td>-1.170957</td>\n",
       "      <td>...</td>\n",
       "      <td>0.603715</td>\n",
       "      <td>0.954866</td>\n",
       "      <td>0.235125</td>\n",
       "      <td>2.690548</td>\n",
       "      <td>-1.218967</td>\n",
       "      <td>0.075196</td>\n",
       "      <td>0.129194</td>\n",
       "      <td>-0.340945</td>\n",
       "      <td>1.116894</td>\n",
       "      <td>0.904130</td>\n",
       "    </tr>\n",
       "    <tr>\n",
       "      <th>4</th>\n",
       "      <td>4</td>\n",
       "      <td>-0.138736</td>\n",
       "      <td>-1.195967</td>\n",
       "      <td>-0.924284</td>\n",
       "      <td>-0.092341</td>\n",
       "      <td>-1.439911</td>\n",
       "      <td>-0.227875</td>\n",
       "      <td>-0.753525</td>\n",
       "      <td>0.067751</td>\n",
       "      <td>-0.567689</td>\n",
       "      <td>...</td>\n",
       "      <td>-0.926318</td>\n",
       "      <td>0.822914</td>\n",
       "      <td>-0.828078</td>\n",
       "      <td>-0.368547</td>\n",
       "      <td>1.343977</td>\n",
       "      <td>0.380322</td>\n",
       "      <td>-0.065282</td>\n",
       "      <td>-0.293283</td>\n",
       "      <td>-1.852242</td>\n",
       "      <td>-0.522319</td>\n",
       "    </tr>\n",
       "  </tbody>\n",
       "</table>\n",
       "<p>5 rows × 51 columns</p>\n",
       "</div>"
      ],
      "text/plain": [
       "   id  feature0  feature1  feature2  feature3  feature4  feature5  feature6  \\\n",
       "0   0 -0.410779  1.408338 -0.069688  0.040203 -0.307234 -0.844737 -0.138596   \n",
       "1   1 -1.432422  2.648975  0.664868 -0.948636 -1.203100 -3.198291 -0.537351   \n",
       "2   2  0.308283 -0.777478  0.572280 -0.494407  0.234693  0.664338 -0.198858   \n",
       "3   3 -1.135503  0.636659  1.083565 -1.079299  0.749069  1.992796 -0.829618   \n",
       "4   4 -0.138736 -1.195967 -0.924284 -0.092341 -1.439911 -0.227875 -0.753525   \n",
       "\n",
       "   feature7  feature8    ...      feature40  feature41  feature42  feature43  \\\n",
       "0  1.549422 -1.880608    ...      -0.693239   0.130851  -1.399520   0.488927   \n",
       "1 -0.315041  1.633572    ...      -1.377846   0.232574   0.106566  -0.049747   \n",
       "2  1.007483  1.761043    ...       0.171687   1.292698  -0.264595   0.313309   \n",
       "3  0.052515 -1.170957    ...       0.603715   0.954866   0.235125   2.690548   \n",
       "4  0.067751 -0.567689    ...      -0.926318   0.822914  -0.828078  -0.368547   \n",
       "\n",
       "   feature44  feature45  feature46  feature47  feature48  feature49  \n",
       "0  -0.513195  -1.180520  -0.779563   1.022411   0.865472   0.965532  \n",
       "1   0.440557   1.644224  -1.688193   0.113779   1.438163   1.676255  \n",
       "2   0.461846  -0.793724   2.184697   0.136228  -1.306590  -0.718391  \n",
       "3  -1.218967   0.075196   0.129194  -0.340945   1.116894   0.904130  \n",
       "4   1.343977   0.380322  -0.065282  -0.293283  -1.852242  -0.522319  \n",
       "\n",
       "[5 rows x 51 columns]"
      ]
     },
     "execution_count": 12,
     "metadata": {},
     "output_type": "execute_result"
    }
   ],
   "source": [
    "X_test2.head()"
   ]
  },
  {
   "cell_type": "markdown",
   "metadata": {},
   "source": [
    "#### Train model"
   ]
  },
  {
   "cell_type": "code",
   "execution_count": 13,
   "metadata": {},
   "outputs": [
    {
     "name": "stdout",
     "output_type": "stream",
     "text": [
      "ROC AUC: 0.988\n"
     ]
    }
   ],
   "source": [
    "param_grid = {'n_estimators': [100], 'max_depth': [2, 4, None]}\n",
    "gs_rf = GridSearchCV(\n",
    "    RandomForestClassifier(random_state=42),\n",
    "    param_grid=param_grid,\n",
    "    scoring='roc_auc'\n",
    ").fit(X_train, y_train)\n",
    "print('ROC AUC: %.3f' % gs_rf.best_score_)"
   ]
  },
  {
   "cell_type": "code",
   "execution_count": 14,
   "metadata": {},
   "outputs": [],
   "source": [
    "X_test3 = spark.createDataFrame(X_test2)"
   ]
  },
  {
   "cell_type": "markdown",
   "metadata": {},
   "source": [
    "#### Option 1: Using simple python function"
   ]
  },
  {
   "cell_type": "code",
   "execution_count": 15,
   "metadata": {},
   "outputs": [],
   "source": [
    "@udf(returnType=DoubleType())\n",
    "def predict_udf(*cols):\n",
    "    # cols will be a tuple of floats here.\n",
    "    return float(gs_rf.predict_proba((cols,))[0, 1])"
   ]
  },
  {
   "cell_type": "code",
   "execution_count": 16,
   "metadata": {},
   "outputs": [
    {
     "data": {
      "text/plain": [
       "1.6713435649871826"
      ]
     },
     "execution_count": 16,
     "metadata": {},
     "output_type": "execute_result"
    }
   ],
   "source": [
    "t0 = time.time()\n",
    "df_pred_a = X_test3.select(\n",
    "    col('id'),\n",
    "    predict_udf(*column_names).alias('prediction')\n",
    ")\n",
    "t1 = time.time()\n",
    "t1-t0"
   ]
  },
  {
   "cell_type": "code",
   "execution_count": 17,
   "metadata": {},
   "outputs": [
    {
     "name": "stdout",
     "output_type": "stream",
     "text": [
      "+---+----------+\n",
      "| id|prediction|\n",
      "+---+----------+\n",
      "|  0|      0.95|\n",
      "|  1|       0.1|\n",
      "|  2|      0.91|\n",
      "|  3|       0.1|\n",
      "|  4|      0.08|\n",
      "+---+----------+\n",
      "only showing top 5 rows\n",
      "\n"
     ]
    },
    {
     "data": {
      "text/plain": [
       "154.20745062828064"
      ]
     },
     "execution_count": 17,
     "metadata": {},
     "output_type": "execute_result"
    }
   ],
   "source": [
    "t0 = time.time()\n",
    "df_pred_a.show(5)\n",
    "t1 = time.time()\n",
    "t1-t0"
   ]
  },
  {
   "cell_type": "markdown",
   "metadata": {},
   "source": [
    "#### Option 2 Using pandas udf"
   ]
  },
  {
   "cell_type": "code",
   "execution_count": 19,
   "metadata": {},
   "outputs": [],
   "source": [
    "@pandas_udf(returnType=DoubleType())\n",
    "def predict_pandas_udf(*cols):\n",
    "    # cols will be a tuple of pandas.Series here.\n",
    "    X = pd.concat(cols, axis=1)\n",
    "    return pd.Series(gs_rf.predict_proba(X)[:, 1])\n"
   ]
  },
  {
   "cell_type": "code",
   "execution_count": 20,
   "metadata": {},
   "outputs": [
    {
     "data": {
      "text/plain": [
       "1.1119499206542969"
      ]
     },
     "execution_count": 20,
     "metadata": {},
     "output_type": "execute_result"
    }
   ],
   "source": [
    "t0 = time.time()\n",
    "df_pred_b = X_test3.select(\n",
    "    col('id'),\n",
    "    predict_pandas_udf(*column_names).alias('prediction')\n",
    ")\n",
    "t1 = time.time()\n",
    "t1-t0"
   ]
  },
  {
   "cell_type": "code",
   "execution_count": 21,
   "metadata": {
    "scrolled": false
   },
   "outputs": [
    {
     "name": "stdout",
     "output_type": "stream",
     "text": [
      "+---+----------+\n",
      "| id|prediction|\n",
      "+---+----------+\n",
      "|  0|      0.95|\n",
      "|  1|       0.1|\n",
      "|  2|      0.91|\n",
      "|  3|       0.1|\n",
      "|  4|      0.08|\n",
      "+---+----------+\n",
      "only showing top 5 rows\n",
      "\n"
     ]
    },
    {
     "data": {
      "text/plain": [
       "17.683598041534424"
      ]
     },
     "execution_count": 21,
     "metadata": {},
     "output_type": "execute_result"
    }
   ],
   "source": [
    "t0 = time.time()\n",
    "df_pred_b.show(5)\n",
    "t1 = time.time()\n",
    "t1-t0"
   ]
  },
  {
   "cell_type": "markdown",
   "metadata": {},
   "source": [
    "#### Option 3"
   ]
  },
  {
   "cell_type": "markdown",
   "metadata": {},
   "source": [
    "Multiclass prediction in Pandas_UDF"
   ]
  },
  {
   "cell_type": "code",
   "execution_count": 47,
   "metadata": {},
   "outputs": [],
   "source": [
    "@pandas_udf(returnType=ArrayType(DoubleType()))\n",
    "def predict_pandas_udf(*cols):\n",
    "    X = pd.concat(cols, axis=1)\n",
    "    return pd.Series(row.tolist() for row in gs_rf.predict_proba(X))\n"
   ]
  },
  {
   "cell_type": "code",
   "execution_count": 54,
   "metadata": {},
   "outputs": [],
   "source": [
    "t0 = time.time()\n",
    "df_pred_multi = (\n",
    "    X_test3.select(\n",
    "        col('id'),\n",
    "        predict_pandas_udf(*column_names).alias('predictions')\n",
    "    )\n",
    "    # Select each item of the prediction array into its own column.\n",
    "    .select(\n",
    "        col('id'),\n",
    "        *[col('predictions')[i].alias(f'prediction_{c}')\n",
    "          for i, c in enumerate(gs_rf.classes_)]\n",
    "    )\n",
    ")\n",
    "t1 = time.time()\n",
    "t1 - t0"
   ]
  },
  {
   "cell_type": "code",
   "execution_count": 55,
   "metadata": {},
   "outputs": [
    {
     "name": "stdout",
     "output_type": "stream",
     "text": [
      "+---+------------+------------+\n",
      "| id|prediction_0|prediction_1|\n",
      "+---+------------+------------+\n",
      "|  0|        0.05|        0.95|\n",
      "|  1|         0.9|         0.1|\n",
      "|  2|        0.09|        0.91|\n",
      "|  3|         0.9|         0.1|\n",
      "|  4|        0.92|        0.08|\n",
      "+---+------------+------------+\n",
      "only showing top 5 rows\n",
      "\n"
     ]
    },
    {
     "data": {
      "text/plain": [
       "16.64201521873474"
      ]
     },
     "execution_count": 55,
     "metadata": {},
     "output_type": "execute_result"
    }
   ],
   "source": [
    "t0 = time.time()\n",
    "df_pred_multi.show(5)\n",
    "t1 = time.time()\n",
    "t1 - t0"
   ]
  },
  {
   "cell_type": "markdown",
   "metadata": {},
   "source": [
    "#### Experimenting with K-Nearest Neighbor model using non-simulated dataset"
   ]
  },
  {
   "cell_type": "code",
   "execution_count": 40,
   "metadata": {},
   "outputs": [],
   "source": [
    "\n",
    "from pandas import read_csv\n",
    "from sklearn.model_selection import KFold\n",
    "from sklearn.model_selection import cross_val_score\n",
    "from sklearn.pipeline import Pipeline\n",
    "from sklearn.pipeline import FeatureUnion\n",
    "from sklearn.neighbors import NearestNeighbors\n",
    "from sklearn.neighbors import KNeighborsClassifier\n",
    "from sklearn.linear_model import LogisticRegression\n",
    "from sklearn.decomposition import PCA\n",
    "from sklearn.feature_selection import SelectKBest\n",
    "# load data\n",
    "url = \"https://raw.githubusercontent.com/jbrownlee/Datasets/master/pima-indians-diabetes.data.csv\"\n",
    "names = ['preg', 'plas', 'pres', 'skin', 'test', 'mass', 'pedi', 'age', 'class']\n",
    "dataframe = read_csv(url, names=names)\n",
    "array = dataframe.values\n",
    "X = array[:,0:8]\n",
    "Y = array[:,8]\n",
    "# create feature union\n",
    "features = []\n",
    "features.append(('pca', PCA(n_components=3)))\n",
    "features.append(('select_best', SelectKBest(k=6)))\n",
    "feature_union = FeatureUnion(features)\n",
    "# create pipeline\n",
    "estimators = []\n",
    "estimators.append(('feature_union', feature_union))\n",
    "estimators.append(('knn', KNeighborsClassifier(n_neighbors=3)))\n",
    "model = Pipeline(estimators)"
   ]
  },
  {
   "cell_type": "code",
   "execution_count": 66,
   "metadata": {},
   "outputs": [
    {
     "data": {
      "text/html": [
       "<div>\n",
       "<style scoped>\n",
       "    .dataframe tbody tr th:only-of-type {\n",
       "        vertical-align: middle;\n",
       "    }\n",
       "\n",
       "    .dataframe tbody tr th {\n",
       "        vertical-align: top;\n",
       "    }\n",
       "\n",
       "    .dataframe thead th {\n",
       "        text-align: right;\n",
       "    }\n",
       "</style>\n",
       "<table border=\"1\" class=\"dataframe\">\n",
       "  <thead>\n",
       "    <tr style=\"text-align: right;\">\n",
       "      <th></th>\n",
       "      <th>0</th>\n",
       "      <th>1</th>\n",
       "      <th>2</th>\n",
       "      <th>3</th>\n",
       "      <th>4</th>\n",
       "      <th>5</th>\n",
       "      <th>6</th>\n",
       "      <th>7</th>\n",
       "    </tr>\n",
       "  </thead>\n",
       "  <tbody>\n",
       "    <tr>\n",
       "      <th>0</th>\n",
       "      <td>6.0</td>\n",
       "      <td>148.0</td>\n",
       "      <td>72.0</td>\n",
       "      <td>35.0</td>\n",
       "      <td>0.0</td>\n",
       "      <td>33.6</td>\n",
       "      <td>0.627</td>\n",
       "      <td>50.0</td>\n",
       "    </tr>\n",
       "    <tr>\n",
       "      <th>1</th>\n",
       "      <td>1.0</td>\n",
       "      <td>85.0</td>\n",
       "      <td>66.0</td>\n",
       "      <td>29.0</td>\n",
       "      <td>0.0</td>\n",
       "      <td>26.6</td>\n",
       "      <td>0.351</td>\n",
       "      <td>31.0</td>\n",
       "    </tr>\n",
       "    <tr>\n",
       "      <th>2</th>\n",
       "      <td>8.0</td>\n",
       "      <td>183.0</td>\n",
       "      <td>64.0</td>\n",
       "      <td>0.0</td>\n",
       "      <td>0.0</td>\n",
       "      <td>23.3</td>\n",
       "      <td>0.672</td>\n",
       "      <td>32.0</td>\n",
       "    </tr>\n",
       "    <tr>\n",
       "      <th>3</th>\n",
       "      <td>1.0</td>\n",
       "      <td>89.0</td>\n",
       "      <td>66.0</td>\n",
       "      <td>23.0</td>\n",
       "      <td>94.0</td>\n",
       "      <td>28.1</td>\n",
       "      <td>0.167</td>\n",
       "      <td>21.0</td>\n",
       "    </tr>\n",
       "    <tr>\n",
       "      <th>4</th>\n",
       "      <td>0.0</td>\n",
       "      <td>137.0</td>\n",
       "      <td>40.0</td>\n",
       "      <td>35.0</td>\n",
       "      <td>168.0</td>\n",
       "      <td>43.1</td>\n",
       "      <td>2.288</td>\n",
       "      <td>33.0</td>\n",
       "    </tr>\n",
       "  </tbody>\n",
       "</table>\n",
       "</div>"
      ],
      "text/plain": [
       "     0      1     2     3      4     5      6     7\n",
       "0  6.0  148.0  72.0  35.0    0.0  33.6  0.627  50.0\n",
       "1  1.0   85.0  66.0  29.0    0.0  26.6  0.351  31.0\n",
       "2  8.0  183.0  64.0   0.0    0.0  23.3  0.672  32.0\n",
       "3  1.0   89.0  66.0  23.0   94.0  28.1  0.167  21.0\n",
       "4  0.0  137.0  40.0  35.0  168.0  43.1  2.288  33.0"
      ]
     },
     "execution_count": 66,
     "metadata": {},
     "output_type": "execute_result"
    }
   ],
   "source": [
    "X2.head()"
   ]
  },
  {
   "cell_type": "code",
   "execution_count": 82,
   "metadata": {},
   "outputs": [],
   "source": [
    "column_names2 = [f'v{i}' for i in range(8)]"
   ]
  },
  {
   "cell_type": "code",
   "execution_count": 83,
   "metadata": {},
   "outputs": [
    {
     "data": {
      "text/plain": [
       "['v0', 'v1', 'v2', 'v3', 'v4', 'v5', 'v6', 'v7']"
      ]
     },
     "execution_count": 83,
     "metadata": {},
     "output_type": "execute_result"
    }
   ],
   "source": [
    "column_names2"
   ]
  },
  {
   "cell_type": "code",
   "execution_count": 87,
   "metadata": {},
   "outputs": [],
   "source": [
    "X2 = pd.DataFrame(X, columns = column_names2)"
   ]
  },
  {
   "cell_type": "code",
   "execution_count": 88,
   "metadata": {},
   "outputs": [
    {
     "name": "stderr",
     "output_type": "stream",
     "text": [
      "C:\\Users\\areda\\AppData\\Local\\Continuum\\anaconda3\\lib\\site-packages\\sklearn\\utils\\__init__.py:93: FutureWarning: Conversion of the second argument of issubdtype from `int` to `np.signedinteger` is deprecated. In future, it will be treated as `np.int32 == np.dtype(int).type`.\n",
      "  \n"
     ]
    }
   ],
   "source": [
    "m = model.fit(X2, Y)"
   ]
  },
  {
   "cell_type": "code",
   "execution_count": 89,
   "metadata": {},
   "outputs": [],
   "source": [
    "X3 = spark.createDataFrame(X2)"
   ]
  },
  {
   "cell_type": "code",
   "execution_count": 90,
   "metadata": {},
   "outputs": [
    {
     "name": "stdout",
     "output_type": "stream",
     "text": [
      "+----+-----+----+----+-----+----+-------------------+----+\n",
      "|  v0|   v1|  v2|  v3|   v4|  v5|                 v6|  v7|\n",
      "+----+-----+----+----+-----+----+-------------------+----+\n",
      "| 6.0|148.0|72.0|35.0|  0.0|33.6|              0.627|50.0|\n",
      "| 1.0| 85.0|66.0|29.0|  0.0|26.6|0.35100000000000003|31.0|\n",
      "| 8.0|183.0|64.0| 0.0|  0.0|23.3|              0.672|32.0|\n",
      "| 1.0| 89.0|66.0|23.0| 94.0|28.1|0.16699999999999998|21.0|\n",
      "| 0.0|137.0|40.0|35.0|168.0|43.1| 2.2880000000000003|33.0|\n",
      "| 5.0|116.0|74.0| 0.0|  0.0|25.6|              0.201|30.0|\n",
      "| 3.0| 78.0|50.0|32.0| 88.0|31.0|              0.248|26.0|\n",
      "|10.0|115.0| 0.0| 0.0|  0.0|35.3|              0.134|29.0|\n",
      "| 2.0|197.0|70.0|45.0|543.0|30.5|              0.158|53.0|\n",
      "| 8.0|125.0|96.0| 0.0|  0.0| 0.0|0.23199999999999998|54.0|\n",
      "| 4.0|110.0|92.0| 0.0|  0.0|37.6|              0.191|30.0|\n",
      "|10.0|168.0|74.0| 0.0|  0.0|38.0|              0.537|34.0|\n",
      "|10.0|139.0|80.0| 0.0|  0.0|27.1| 1.4409999999999998|57.0|\n",
      "| 1.0|189.0|60.0|23.0|846.0|30.1|0.39799999999999996|59.0|\n",
      "| 5.0|166.0|72.0|19.0|175.0|25.8| 0.5870000000000001|51.0|\n",
      "| 7.0|100.0| 0.0| 0.0|  0.0|30.0|              0.484|32.0|\n",
      "| 0.0|118.0|84.0|47.0|230.0|45.8|              0.551|31.0|\n",
      "| 7.0|107.0|74.0| 0.0|  0.0|29.6|              0.254|31.0|\n",
      "| 1.0|103.0|30.0|38.0| 83.0|43.3|              0.183|33.0|\n",
      "| 1.0|115.0|70.0|30.0| 96.0|34.6|              0.529|32.0|\n",
      "+----+-----+----+----+-----+----+-------------------+----+\n",
      "only showing top 20 rows\n",
      "\n"
     ]
    }
   ],
   "source": [
    "X3.show()"
   ]
  },
  {
   "cell_type": "code",
   "execution_count": 57,
   "metadata": {},
   "outputs": [],
   "source": [
    "@udf(returnType=DoubleType())\n",
    "def predict_udf2(*cols):\n",
    "    # cols will be a tuple of floats here.\n",
    "    return float(m.predict_proba((cols,))[0, 1])"
   ]
  },
  {
   "cell_type": "code",
   "execution_count": 92,
   "metadata": {},
   "outputs": [
    {
     "data": {
      "text/plain": [
       "0.10574889183044434"
      ]
     },
     "execution_count": 92,
     "metadata": {},
     "output_type": "execute_result"
    }
   ],
   "source": [
    "t0 = time.time()\n",
    "df_pred_x = X3.select(\n",
    "    predict_udf(*cols).alias('prediction')\n",
    ")\n",
    "t1 = time.time()\n",
    "t1-t0"
   ]
  },
  {
   "cell_type": "code",
   "execution_count": 75,
   "metadata": {},
   "outputs": [
    {
     "data": {
      "text/plain": [
       "[0, 1, 2, 3, 4, 5, 6, 7]"
      ]
     },
     "execution_count": 75,
     "metadata": {},
     "output_type": "execute_result"
    }
   ],
   "source": [
    "list(range(8))"
   ]
  },
  {
   "cell_type": "code",
   "execution_count": null,
   "metadata": {},
   "outputs": [],
   "source": []
  },
  {
   "cell_type": "code",
   "execution_count": null,
   "metadata": {},
   "outputs": [],
   "source": []
  },
  {
   "cell_type": "code",
   "execution_count": null,
   "metadata": {},
   "outputs": [],
   "source": []
  },
  {
   "cell_type": "code",
   "execution_count": null,
   "metadata": {},
   "outputs": [],
   "source": []
  }
 ],
 "metadata": {
  "kernelspec": {
   "display_name": "Python 3",
   "language": "python",
   "name": "python3"
  },
  "language_info": {
   "codemirror_mode": {
    "name": "ipython",
    "version": 3
   },
   "file_extension": ".py",
   "mimetype": "text/x-python",
   "name": "python",
   "nbconvert_exporter": "python",
   "pygments_lexer": "ipython3",
   "version": "3.6.2"
  }
 },
 "nbformat": 4,
 "nbformat_minor": 2
}
